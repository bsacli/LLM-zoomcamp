{
 "cells": [
  {
   "cell_type": "code",
   "execution_count": 3,
   "id": "f3b78019-76e4-4ade-8e09-b1ddebf91c18",
   "metadata": {},
   "outputs": [],
   "source": [
    "import openai"
   ]
  },
  {
   "cell_type": "code",
   "execution_count": 4,
   "id": "18269502-c657-4b5e-bf2e-bdd57430cc35",
   "metadata": {},
   "outputs": [],
   "source": [
    "from openai import OpenAI"
   ]
  },
  {
   "cell_type": "code",
   "execution_count": 5,
   "id": "5577d081-f22e-40f2-950d-af8396054074",
   "metadata": {},
   "outputs": [],
   "source": [
    "client = OpenAI()"
   ]
  },
  {
   "cell_type": "code",
   "execution_count": 9,
   "id": "b2781aea-81b5-49a3-ac8e-d9210c3e0094",
   "metadata": {},
   "outputs": [],
   "source": [
    "response = client.chat.completions.create(\n",
    "    model='gpt-4o',\n",
    "    messages=[{'role': 'user', 'content': 'is it too late to join the course?'}]\n",
    ")"
   ]
  },
  {
   "cell_type": "code",
   "execution_count": 11,
   "id": "19dc771b-ea74-4f04-9f02-fe7ea88ff288",
   "metadata": {},
   "outputs": [
    {
     "data": {
      "text/plain": [
       "\"It depends on the specific course you're referring to. Many educational institutions and online platforms have different enrollment deadlines. Here's what you can do to find out:\\n\\n1. **Check the Course Website:** Most course providers will have detailed information about enrollment deadlines on their website.\\n2. **Contact Support:** Reach out to the support team or admissions office of the institution offering the course for the most accurate information.\\n3. **Consider Late Enrollment:** Some courses may allow late enrollment or might offer rolling admissions, where you can start at any time.\\n4. **Look for Flexible Options:** If it's an online course, platforms like Coursera, Udacity, or edX often allow you to join courses at any time and go at your own pace.\\n\\nDo you have a specific course or institution in mind? That might help narrow down the advice.\""
      ]
     },
     "execution_count": 11,
     "metadata": {},
     "output_type": "execute_result"
    }
   ],
   "source": [
    "response.choices[0].message.content"
   ]
  },
  {
   "cell_type": "code",
   "execution_count": null,
   "id": "057ffd23-b451-49e8-9e07-fd764429f7d5",
   "metadata": {},
   "outputs": [],
   "source": []
  }
 ],
 "metadata": {
  "kernelspec": {
   "display_name": "Python 3 (ipykernel)",
   "language": "python",
   "name": "python3"
  },
  "language_info": {
   "codemirror_mode": {
    "name": "ipython",
    "version": 3
   },
   "file_extension": ".py",
   "mimetype": "text/x-python",
   "name": "python",
   "nbconvert_exporter": "python",
   "pygments_lexer": "ipython3",
   "version": "3.10.13"
  }
 },
 "nbformat": 4,
 "nbformat_minor": 5
}
