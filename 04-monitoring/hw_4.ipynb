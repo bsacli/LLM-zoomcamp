{
 "cells": [
  {
   "cell_type": "code",
   "execution_count": 2,
   "metadata": {},
   "outputs": [],
   "source": [
    "import pandas as pd\n",
    "\n",
    "github_url = \"https://github.com/DataTalksClub/llm-zoomcamp/blob/main/04-monitoring/data/results-gpt4o-mini.csv\"\n",
    "url = f'{github_url}?raw=1'\n",
    "df = pd.read_csv(url)"
   ]
  },
  {
   "cell_type": "code",
   "execution_count": 3,
   "metadata": {},
   "outputs": [],
   "source": [
    "df = df.iloc[:300]"
   ]
  },
  {
   "cell_type": "code",
   "execution_count": 4,
   "metadata": {},
   "outputs": [
    {
     "data": {
      "application/vnd.jupyter.widget-view+json": {
       "model_id": "6e8f7a1aad034f309f6daba8d2042dd3",
       "version_major": 2,
       "version_minor": 0
      },
      "text/plain": [
       "modules.json:   0%|          | 0.00/229 [00:00<?, ?B/s]"
      ]
     },
     "metadata": {},
     "output_type": "display_data"
    },
    {
     "data": {
      "application/vnd.jupyter.widget-view+json": {
       "model_id": "e6f4bb0db8c0411b91cfcd0ee74750ea",
       "version_major": 2,
       "version_minor": 0
      },
      "text/plain": [
       "config_sentence_transformers.json:   0%|          | 0.00/212 [00:00<?, ?B/s]"
      ]
     },
     "metadata": {},
     "output_type": "display_data"
    },
    {
     "name": "stderr",
     "output_type": "stream",
     "text": [
      "You try to use a model that was created with version 3.0.0.dev0, however, your version is 2.7.0. This might cause unexpected behavior or errors. In that case, try to update to the latest version.\n",
      "\n",
      "\n",
      "\n"
     ]
    },
    {
     "data": {
      "application/vnd.jupyter.widget-view+json": {
       "model_id": "cb41d19dac264f7587e21da0f976500a",
       "version_major": 2,
       "version_minor": 0
      },
      "text/plain": [
       "README.md:   0%|          | 0.00/8.71k [00:00<?, ?B/s]"
      ]
     },
     "metadata": {},
     "output_type": "display_data"
    },
    {
     "data": {
      "application/vnd.jupyter.widget-view+json": {
       "model_id": "919ea0bbe53a476cb11f023425c715b1",
       "version_major": 2,
       "version_minor": 0
      },
      "text/plain": [
       "sentence_bert_config.json:   0%|          | 0.00/53.0 [00:00<?, ?B/s]"
      ]
     },
     "metadata": {},
     "output_type": "display_data"
    },
    {
     "data": {
      "application/vnd.jupyter.widget-view+json": {
       "model_id": "02f431c8d95640dfb5f763bc944450fe",
       "version_major": 2,
       "version_minor": 0
      },
      "text/plain": [
       "config.json:   0%|          | 0.00/571 [00:00<?, ?B/s]"
      ]
     },
     "metadata": {},
     "output_type": "display_data"
    },
    {
     "data": {
      "application/vnd.jupyter.widget-view+json": {
       "model_id": "077d3d4ba44e480d98d7b0603d94fb39",
       "version_major": 2,
       "version_minor": 0
      },
      "text/plain": [
       "model.safetensors:   0%|          | 0.00/438M [00:00<?, ?B/s]"
      ]
     },
     "metadata": {},
     "output_type": "display_data"
    },
    {
     "data": {
      "application/vnd.jupyter.widget-view+json": {
       "model_id": "f771a6f91a3e415a976d8770874eec9a",
       "version_major": 2,
       "version_minor": 0
      },
      "text/plain": [
       "tokenizer_config.json:   0%|          | 0.00/363 [00:00<?, ?B/s]"
      ]
     },
     "metadata": {},
     "output_type": "display_data"
    },
    {
     "data": {
      "application/vnd.jupyter.widget-view+json": {
       "model_id": "8b3f100383564bddad12218a81cee4a7",
       "version_major": 2,
       "version_minor": 0
      },
      "text/plain": [
       "vocab.txt:   0%|          | 0.00/232k [00:00<?, ?B/s]"
      ]
     },
     "metadata": {},
     "output_type": "display_data"
    },
    {
     "data": {
      "application/vnd.jupyter.widget-view+json": {
       "model_id": "15c4f865b8134aa29227efd144683717",
       "version_major": 2,
       "version_minor": 0
      },
      "text/plain": [
       "tokenizer.json:   0%|          | 0.00/466k [00:00<?, ?B/s]"
      ]
     },
     "metadata": {},
     "output_type": "display_data"
    },
    {
     "data": {
      "application/vnd.jupyter.widget-view+json": {
       "model_id": "5a90f7b9b00742fda77c4784b625dd1e",
       "version_major": 2,
       "version_minor": 0
      },
      "text/plain": [
       "special_tokens_map.json:   0%|          | 0.00/239 [00:00<?, ?B/s]"
      ]
     },
     "metadata": {},
     "output_type": "display_data"
    },
    {
     "data": {
      "application/vnd.jupyter.widget-view+json": {
       "model_id": "1cf392ee053f4d8a98a5d50fff815589",
       "version_major": 2,
       "version_minor": 0
      },
      "text/plain": [
       "1_Pooling/config.json:   0%|          | 0.00/190 [00:00<?, ?B/s]"
      ]
     },
     "metadata": {},
     "output_type": "display_data"
    }
   ],
   "source": [
    "from sentence_transformers import SentenceTransformer\n",
    "\n",
    "model_name = \"multi-qa-mpnet-base-dot-v1\"\n",
    "embedding_model = SentenceTransformer(model_name)"
   ]
  },
  {
   "cell_type": "code",
   "execution_count": 5,
   "metadata": {},
   "outputs": [],
   "source": [
    "answer_llm = df.iloc[0].answer_llm"
   ]
  },
  {
   "cell_type": "code",
   "execution_count": 12,
   "metadata": {},
   "outputs": [
    {
     "name": "stdout",
     "output_type": "stream",
     "text": [
      "-0.42244655\n"
     ]
    }
   ],
   "source": [
    "embeddings = embedding_model.encode(answer_llm)\n",
    "\n",
    "# Get the first value of the resulting vector\n",
    "first_value = embeddings[0]\n",
    "print(first_value)"
   ]
  },
  {
   "cell_type": "code",
   "execution_count": 16,
   "metadata": {},
   "outputs": [
    {
     "name": "stdout",
     "output_type": "stream",
     "text": [
      "31.67430877685547\n"
     ]
    }
   ],
   "source": [
    "import numpy as np\n",
    "\n",
    "df['embeddings_answer_llm'] = df['answer_llm'].apply(lambda x: embedding_model.encode(x))\n",
    "df['embeddings_answer_orig'] = df['answer_orig'].apply(lambda x: embedding_model.encode(x))\n",
    "\n",
    "evaluations = []\n",
    "\n",
    "for i in range(len(df)):\n",
    "        dot_product = np.dot(df.iloc[i]['embeddings_answer_llm'], df.iloc[i]['embeddings_answer_orig'])\n",
    "        evaluations.append(dot_product)\n",
    "\n",
    "percentile_75 = np.percentile(evaluations, 75)\n",
    "print(percentile_75)"
   ]
  },
  {
   "cell_type": "code",
   "execution_count": 21,
   "metadata": {},
   "outputs": [
    {
     "name": "stdout",
     "output_type": "stream",
     "text": [
      "0.8362348973751068\n"
     ]
    }
   ],
   "source": [
    "def encode_n_normalize(text):\n",
    "    v = embedding_model.encode(text)\n",
    "    norm = np.sqrt((v * v).sum())\n",
    "    v_norm = v / norm\n",
    "    return v_norm\n",
    "\n",
    "df['norm_embeddings_answer_llm'] = df['answer_llm'].apply(lambda x: encode_n_normalize(x))\n",
    "df['norm_embeddings_answer_orig'] = df['answer_orig'].apply(lambda x: encode_n_normalize(x))\n",
    "\n",
    "\n",
    "norm_evaluations = []\n",
    "\n",
    "for i in range(len(df)):\n",
    "        dot_product = np.dot(df.iloc[i]['norm_embeddings_answer_llm'], df.iloc[i]['norm_embeddings_answer_orig'])\n",
    "        norm_evaluations.append(dot_product)\n",
    "\n",
    "percentile_75 = np.percentile(norm_evaluations, 75)\n",
    "print(percentile_75)"
   ]
  },
  {
   "cell_type": "code",
   "execution_count": 27,
   "metadata": {},
   "outputs": [],
   "source": [
    "r = df.iloc[10]"
   ]
  },
  {
   "cell_type": "code",
   "execution_count": 28,
   "metadata": {},
   "outputs": [],
   "source": [
    "from rouge import Rouge\n",
    "rouge_scorer = Rouge()\n",
    "\n",
    "scores = rouge_scorer.get_scores(r['answer_llm'], r['answer_orig'])[0]"
   ]
  },
  {
   "cell_type": "code",
   "execution_count": 29,
   "metadata": {},
   "outputs": [
    {
     "data": {
      "text/plain": [
       "{'rouge-1': {'r': 0.45454545454545453,\n",
       "  'p': 0.45454545454545453,\n",
       "  'f': 0.45454544954545456},\n",
       " 'rouge-2': {'r': 0.21621621621621623,\n",
       "  'p': 0.21621621621621623,\n",
       "  'f': 0.21621621121621637},\n",
       " 'rouge-l': {'r': 0.3939393939393939,\n",
       "  'p': 0.3939393939393939,\n",
       "  'f': 0.393939388939394}}"
      ]
     },
     "execution_count": 29,
     "metadata": {},
     "output_type": "execute_result"
    }
   ],
   "source": [
    "scores"
   ]
  },
  {
   "cell_type": "code",
   "execution_count": 32,
   "metadata": {},
   "outputs": [
    {
     "name": "stdout",
     "output_type": "stream",
     "text": [
      "Average F-score: 0.35490034990035496\n"
     ]
    }
   ],
   "source": [
    "f_scores = [\n",
    "    scores['rouge-1']['f'],\n",
    "    scores['rouge-2']['f'],\n",
    "    scores['rouge-l']['f']\n",
    "]\n",
    "\n",
    "average_f_score = sum(f_scores) / len(f_scores)\n",
    "print(\"Average F-score:\", average_f_score)\n"
   ]
  },
  {
   "cell_type": "code",
   "execution_count": 36,
   "metadata": {},
   "outputs": [],
   "source": [
    "def calculate_rouge(text1, text2):\n",
    "    return rouge_scorer.get_scores(text1, text2)[0]\n",
    "\n",
    "df['rouge_scores'] = df.apply(lambda row: calculate_rouge(row['answer_llm'], row['answer_orig']), axis=1)\n"
   ]
  },
  {
   "cell_type": "code",
   "execution_count": 37,
   "metadata": {},
   "outputs": [
    {
     "data": {
      "text/plain": [
       "0      {'rouge-1': {'r': 0.061224489795918366, 'p': 0...\n",
       "1      {'rouge-1': {'r': 0.08163265306122448, 'p': 0....\n",
       "2      {'rouge-1': {'r': 0.32653061224489793, 'p': 0....\n",
       "3      {'rouge-1': {'r': 0.16326530612244897, 'p': 0....\n",
       "4      {'rouge-1': {'r': 0.2653061224489796, 'p': 0.0...\n",
       "                             ...                        \n",
       "295    {'rouge-1': {'r': 0.6428571428571429, 'p': 0.6...\n",
       "296    {'rouge-1': {'r': 0.6428571428571429, 'p': 0.5...\n",
       "297    {'rouge-1': {'r': 0.6607142857142857, 'p': 0.6...\n",
       "298    {'rouge-1': {'r': 0.2857142857142857, 'p': 0.3...\n",
       "299    {'rouge-1': {'r': 0.125, 'p': 0.31818181818181...\n",
       "Name: rouge_scores, Length: 300, dtype: object"
      ]
     },
     "execution_count": 37,
     "metadata": {},
     "output_type": "execute_result"
    }
   ],
   "source": [
    "df['rouge_scores']"
   ]
  },
  {
   "cell_type": "code",
   "execution_count": 41,
   "metadata": {},
   "outputs": [],
   "source": [
    "df['rouge-2'] = df['rouge_scores'].apply(lambda x: x['rouge-2'])\n",
    "df['rouge-2-f'] = df['rouge-2'].apply(lambda x: x['f'])"
   ]
  },
  {
   "cell_type": "code",
   "execution_count": 43,
   "metadata": {},
   "outputs": [
    {
     "data": {
      "text/plain": [
       "0.20696501983423318"
      ]
     },
     "execution_count": 43,
     "metadata": {},
     "output_type": "execute_result"
    }
   ],
   "source": [
    "df['rouge-2-f'].mean()"
   ]
  },
  {
   "cell_type": "code",
   "execution_count": null,
   "metadata": {},
   "outputs": [],
   "source": []
  }
 ],
 "metadata": {
  "kernelspec": {
   "display_name": "Python 3",
   "language": "python",
   "name": "python3"
  },
  "language_info": {
   "codemirror_mode": {
    "name": "ipython",
    "version": 3
   },
   "file_extension": ".py",
   "mimetype": "text/x-python",
   "name": "python",
   "nbconvert_exporter": "python",
   "pygments_lexer": "ipython3",
   "version": "3.10.13"
  }
 },
 "nbformat": 4,
 "nbformat_minor": 2
}
